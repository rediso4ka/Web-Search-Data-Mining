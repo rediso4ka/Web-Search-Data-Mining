{
 "cells": [
  {
   "cell_type": "markdown",
   "metadata": {},
   "source": [
    "# Understanding Embedding Spaces"
   ]
  },
  {
   "cell_type": "markdown",
   "metadata": {},
   "source": [
    "## Imports and definitions"
   ]
  },
  {
   "cell_type": "code",
   "execution_count": 49,
   "metadata": {},
   "outputs": [
    {
     "name": "stdout",
     "output_type": "stream",
     "text": [
      "Requirement already satisfied: av in c:\\users\\swimm\\anaconda3\\envs\\nlp-cv-ir\\lib\\site-packages (14.2.0)\n",
      "Requirement already satisfied: yt-dlp in c:\\users\\swimm\\anaconda3\\envs\\nlp-cv-ir\\lib\\site-packages (2025.3.31)\n"
     ]
    }
   ],
   "source": [
    "import json\n",
    "from pprint import pprint\n",
    "! pip install av\n",
    "! pip install yt-dlp\n",
    "import yt_dlp\n",
    "import av\n",
    "import av.datasets"
   ]
  },
  {
   "cell_type": "markdown",
   "metadata": {},
   "source": [
    "## Donwloading the videos"
   ]
  },
  {
   "cell_type": "code",
   "execution_count": 50,
   "metadata": {},
   "outputs": [],
   "source": [
    "with open('activity_net.v1-3.min.json', 'r') as json_data:\n",
    "    data = json.load(json_data)"
   ]
  },
  {
   "cell_type": "code",
   "execution_count": 51,
   "metadata": {},
   "outputs": [
    {
     "name": "stdout",
     "output_type": "stream",
     "text": [
      "Video ID: o1WPnnvs00I, Moments: 23\n",
      "Video ID: oGwn4NUeoy8, Moments: 23\n",
      "Video ID: VEDRmPt_-Ms, Moments: 20\n",
      "Video ID: qF3EbR8y8go, Moments: 19\n",
      "Video ID: DLJqhYP-C0k, Moments: 18\n",
      "Video ID: t6f_O8a4sSg, Moments: 18\n",
      "Video ID: 6gyD-Mte2ZM, Moments: 18\n",
      "Video ID: jBvGvVw3R-Q, Moments: 18\n",
      "Video ID: PJ72Yl0B1rY, Moments: 17\n",
      "Video ID: QHn9KyE-zZo, Moments: 17\n",
      "Video ID: 9-yueOtwiL8, Moments: 17\n",
      "Video ID: od9EdcDcByA, Moments: 17\n",
      "Video ID: U0qUFAPUg_Y, Moments: 16\n",
      "Video ID: -ap649M020k, Moments: 15\n",
      "Video ID: lxMSX0Y0b8I, Moments: 15\n"
     ]
    }
   ],
   "source": [
    "# Extract video information\n",
    "videos = data.get('database', {})\n",
    "\n",
    "# Sort videos by the number of moments (annotations)\n",
    "sorted_videos = sorted(videos.items(), key=lambda x: len(x[1].get('annotations', [])), reverse=True)\n",
    "\n",
    "# Select the top 10 videos\n",
    "top_15_videos = sorted_videos[:15]\n",
    "\n",
    "# Print the top 10 video IDs and their moment counts\n",
    "for video_id, video_info in top_15_videos:\n",
    "    print(f\"Video ID: {video_id}, Moments: {len(video_info.get('annotations', []))}\")"
   ]
  },
  {
   "cell_type": "code",
   "execution_count": 52,
   "metadata": {},
   "outputs": [],
   "source": [
    "def download_video(url, output_path='downloads/'):\n",
    "    ydl_opts = {\n",
    "        'outtmpl': f'{output_path}/%(title)s.%(ext)s',\n",
    "    }\n",
    "    with yt_dlp.YoutubeDL(ydl_opts) as ydl:\n",
    "        ydl.download([url])"
   ]
  },
  {
   "cell_type": "code",
   "execution_count": null,
   "metadata": {},
   "outputs": [
    {
     "name": "stdout",
     "output_type": "stream",
     "text": [
      "[youtube] Extracting URL: https://www.youtube.com/watch?v=o1WPnnvs00I\n",
      "[youtube] o1WPnnvs00I: Downloading webpage\n",
      "[youtube] o1WPnnvs00I: Downloading tv client config\n",
      "[youtube] o1WPnnvs00I: Downloading player ac290d0b-main\n",
      "[youtube] o1WPnnvs00I: Downloading tv player API JSON\n",
      "[youtube] o1WPnnvs00I: Downloading ios player API JSON\n",
      "[youtube] o1WPnnvs00I: Downloading m3u8 information\n"
     ]
    },
    {
     "name": "stderr",
     "output_type": "stream",
     "text": [
      "WARNING: ffmpeg not found. The downloaded format may not be the best available. Installing ffmpeg is strongly recommended: https://github.com/yt-dlp/yt-dlp#dependencies\n"
     ]
    },
    {
     "name": "stdout",
     "output_type": "stream",
     "text": [
      "[info] o1WPnnvs00I: Downloading 1 format(s): 18\n",
      "[download] Destination: downloads\\Irish March (Fife & Flute) – Wouter Kellerman (Live).mp4\n",
      "[download] 100% of   10.19MiB in 00:00:21 at 480.13KiB/s \n",
      "Downloaded: o1WPnnvs00I\n",
      "[youtube] Extracting URL: https://www.youtube.com/watch?v=oGwn4NUeoy8\n",
      "[youtube] oGwn4NUeoy8: Downloading webpage\n",
      "[youtube] oGwn4NUeoy8: Downloading tv client config\n",
      "[youtube] oGwn4NUeoy8: Downloading player ac290d0b-main\n",
      "[youtube] oGwn4NUeoy8: Downloading tv player API JSON\n",
      "[youtube] oGwn4NUeoy8: Downloading ios player API JSON\n",
      "[youtube] oGwn4NUeoy8: Downloading m3u8 information\n"
     ]
    },
    {
     "name": "stderr",
     "output_type": "stream",
     "text": [
      "WARNING: ffmpeg not found. The downloaded format may not be the best available. Installing ffmpeg is strongly recommended: https://github.com/yt-dlp/yt-dlp#dependencies\n"
     ]
    },
    {
     "name": "stdout",
     "output_type": "stream",
     "text": [
      "[info] oGwn4NUeoy8: Downloading 1 format(s): 18\n",
      "[download] Destination: downloads\\Jessica Ryckewaert plays Congas Drums Mezza Voce, Rhythm Concert.mp4\n",
      "[download] 100% of    5.66MiB in 00:00:12 at 481.19KiB/s   \n",
      "Downloaded: oGwn4NUeoy8\n",
      "[youtube] Extracting URL: https://www.youtube.com/watch?v=VEDRmPt_-Ms\n",
      "[youtube] VEDRmPt_-Ms: Downloading webpage\n",
      "[youtube] VEDRmPt_-Ms: Downloading tv client config\n",
      "[youtube] VEDRmPt_-Ms: Downloading player ac290d0b-main\n",
      "[youtube] VEDRmPt_-Ms: Downloading tv player API JSON\n",
      "[youtube] VEDRmPt_-Ms: Downloading ios player API JSON\n",
      "[youtube] VEDRmPt_-Ms: Downloading m3u8 information\n"
     ]
    },
    {
     "name": "stderr",
     "output_type": "stream",
     "text": [
      "WARNING: ffmpeg not found. The downloaded format may not be the best available. Installing ffmpeg is strongly recommended: https://github.com/yt-dlp/yt-dlp#dependencies\n"
     ]
    },
    {
     "name": "stdout",
     "output_type": "stream",
     "text": [
      "[info] VEDRmPt_-Ms: Downloading 1 format(s): 18\n",
      "[download] Destination: downloads\\Raquel.Pinto.Estrela.Moitense.Tumbling.2013.mp4\n",
      "[download] 100% of   11.13MiB in 00:00:23 at 483.10KiB/s   \n",
      "Downloaded: VEDRmPt_-Ms\n",
      "[youtube] Extracting URL: https://www.youtube.com/watch?v=qF3EbR8y8go\n",
      "[youtube] qF3EbR8y8go: Downloading webpage\n",
      "[youtube] qF3EbR8y8go: Downloading tv client config\n",
      "[youtube] qF3EbR8y8go: Downloading player ac290d0b-main\n",
      "[youtube] qF3EbR8y8go: Downloading tv player API JSON\n",
      "[youtube] qF3EbR8y8go: Downloading ios player API JSON\n",
      "[youtube] qF3EbR8y8go: Downloading m3u8 information\n"
     ]
    },
    {
     "name": "stderr",
     "output_type": "stream",
     "text": [
      "WARNING: ffmpeg not found. The downloaded format may not be the best available. Installing ffmpeg is strongly recommended: https://github.com/yt-dlp/yt-dlp#dependencies\n"
     ]
    },
    {
     "name": "stdout",
     "output_type": "stream",
     "text": [
      "[info] qF3EbR8y8go: Downloading 1 format(s): 18\n",
      "[download] Destination: downloads\\Chinese Brush Painting.mp4\n",
      "[download] 100% of    9.50MiB in 00:00:20 at 482.23KiB/s \n",
      "Downloaded: qF3EbR8y8go\n",
      "[youtube] Extracting URL: https://www.youtube.com/watch?v=DLJqhYP-C0k\n",
      "[youtube] DLJqhYP-C0k: Downloading webpage\n",
      "[youtube] DLJqhYP-C0k: Downloading tv client config\n",
      "[youtube] DLJqhYP-C0k: Downloading player ac290d0b-main\n",
      "[youtube] DLJqhYP-C0k: Downloading tv player API JSON\n",
      "[youtube] DLJqhYP-C0k: Downloading ios player API JSON\n",
      "[youtube] DLJqhYP-C0k: Downloading m3u8 information\n"
     ]
    },
    {
     "name": "stderr",
     "output_type": "stream",
     "text": [
      "WARNING: ffmpeg not found. The downloaded format may not be the best available. Installing ffmpeg is strongly recommended: https://github.com/yt-dlp/yt-dlp#dependencies\n"
     ]
    },
    {
     "name": "stdout",
     "output_type": "stream",
     "text": [
      "[info] DLJqhYP-C0k: Downloading 1 format(s): 18\n",
      "[download] Destination: downloads\\LOS MEJORES TIROS DE BOLOS  THE  BEST BOWLING SHOTS.mp4\n",
      "[download] 100% of   10.60MiB in 00:00:22 at 479.40KiB/s   \n",
      "Downloaded: DLJqhYP-C0k\n",
      "[youtube] Extracting URL: https://www.youtube.com/watch?v=t6f_O8a4sSg\n",
      "[youtube] t6f_O8a4sSg: Downloading webpage\n",
      "[youtube] t6f_O8a4sSg: Downloading tv client config\n",
      "[youtube] t6f_O8a4sSg: Downloading player ac290d0b-main\n",
      "[youtube] t6f_O8a4sSg: Downloading tv player API JSON\n",
      "[youtube] t6f_O8a4sSg: Downloading ios player API JSON\n",
      "[youtube] t6f_O8a4sSg: Downloading m3u8 information\n"
     ]
    },
    {
     "name": "stderr",
     "output_type": "stream",
     "text": [
      "WARNING: ffmpeg not found. The downloaded format may not be the best available. Installing ffmpeg is strongly recommended: https://github.com/yt-dlp/yt-dlp#dependencies\n"
     ]
    },
    {
     "name": "stdout",
     "output_type": "stream",
     "text": [
      "[info] t6f_O8a4sSg: Downloading 1 format(s): 18\n",
      "[download] Destination: downloads\\SKATEBOARDING MADE SIMPLE VOLUME 5 AVAILABLE NOW!.mp4\n",
      "[download] 100% of   11.71MiB in 00:00:32 at 373.11KiB/s   \n",
      "Downloaded: t6f_O8a4sSg\n",
      "[youtube] Extracting URL: https://www.youtube.com/watch?v=6gyD-Mte2ZM\n",
      "[youtube] 6gyD-Mte2ZM: Downloading webpage\n",
      "[youtube] 6gyD-Mte2ZM: Downloading tv client config\n",
      "[youtube] 6gyD-Mte2ZM: Downloading player ac290d0b-main\n",
      "[youtube] 6gyD-Mte2ZM: Downloading tv player API JSON\n",
      "[youtube] 6gyD-Mte2ZM: Downloading ios player API JSON\n",
      "[youtube] 6gyD-Mte2ZM: Downloading m3u8 information\n"
     ]
    },
    {
     "name": "stderr",
     "output_type": "stream",
     "text": [
      "WARNING: ffmpeg not found. The downloaded format may not be the best available. Installing ffmpeg is strongly recommended: https://github.com/yt-dlp/yt-dlp#dependencies\n"
     ]
    },
    {
     "name": "stdout",
     "output_type": "stream",
     "text": [
      "[info] 6gyD-Mte2ZM: Downloading 1 format(s): 18\n",
      "[download] Destination: downloads\\PBA - Lowest game bowled on tv - 100.mp4\n",
      "[download] 100% of   13.03MiB in 00:00:39 at 340.42KiB/s \n",
      "Downloaded: 6gyD-Mte2ZM\n",
      "[youtube] Extracting URL: https://www.youtube.com/watch?v=jBvGvVw3R-Q\n",
      "[youtube] jBvGvVw3R-Q: Downloading webpage\n",
      "[youtube] jBvGvVw3R-Q: Downloading tv client config\n",
      "[youtube] jBvGvVw3R-Q: Downloading player ac290d0b-main\n",
      "[youtube] jBvGvVw3R-Q: Downloading tv player API JSON\n",
      "[youtube] jBvGvVw3R-Q: Downloading ios player API JSON\n",
      "[youtube] jBvGvVw3R-Q: Downloading m3u8 information\n"
     ]
    },
    {
     "name": "stderr",
     "output_type": "stream",
     "text": [
      "WARNING: ffmpeg not found. The downloaded format may not be the best available. Installing ffmpeg is strongly recommended: https://github.com/yt-dlp/yt-dlp#dependencies\n"
     ]
    },
    {
     "name": "stdout",
     "output_type": "stream",
     "text": [
      "[info] jBvGvVw3R-Q: Downloading 1 format(s): 18\n",
      "[download] Destination: downloads\\The King of American Weightlifting Visits Cal Strength.mp4\n",
      "[download] 100% of   13.51MiB in 00:00:30 at 448.87KiB/s   \n",
      "Downloaded: jBvGvVw3R-Q\n",
      "[youtube] Extracting URL: https://www.youtube.com/watch?v=PJ72Yl0B1rY\n",
      "[youtube] PJ72Yl0B1rY: Downloading webpage\n",
      "[youtube] PJ72Yl0B1rY: Downloading tv client config\n",
      "[youtube] PJ72Yl0B1rY: Downloading player ac290d0b-main\n",
      "[youtube] PJ72Yl0B1rY: Downloading tv player API JSON\n",
      "[youtube] PJ72Yl0B1rY: Downloading ios player API JSON\n"
     ]
    },
    {
     "name": "stderr",
     "output_type": "stream",
     "text": [
      "ERROR: [youtube] PJ72Yl0B1rY: Private video. Sign in if you've been granted access to this video. Use --cookies-from-browser or --cookies for the authentication. See  https://github.com/yt-dlp/yt-dlp/wiki/FAQ#how-do-i-pass-cookies-to-yt-dlp  for how to manually pass cookies. Also see  https://github.com/yt-dlp/yt-dlp/wiki/Extractors#exporting-youtube-cookies  for tips on effectively exporting YouTube cookies\n"
     ]
    },
    {
     "name": "stdout",
     "output_type": "stream",
     "text": [
      "Failed to download PJ72Yl0B1rY: ERROR: [youtube] PJ72Yl0B1rY: Private video. Sign in if you've been granted access to this video. Use --cookies-from-browser or --cookies for the authentication. See  https://github.com/yt-dlp/yt-dlp/wiki/FAQ#how-do-i-pass-cookies-to-yt-dlp  for how to manually pass cookies. Also see  https://github.com/yt-dlp/yt-dlp/wiki/Extractors#exporting-youtube-cookies  for tips on effectively exporting YouTube cookies\n",
      "[youtube] Extracting URL: https://www.youtube.com/watch?v=QHn9KyE-zZo\n",
      "[youtube] QHn9KyE-zZo: Downloading webpage\n",
      "[youtube] QHn9KyE-zZo: Downloading tv client config\n",
      "[youtube] QHn9KyE-zZo: Downloading player ac290d0b-main\n",
      "[youtube] QHn9KyE-zZo: Downloading tv player API JSON\n",
      "[youtube] QHn9KyE-zZo: Downloading ios player API JSON\n",
      "[youtube] QHn9KyE-zZo: Downloading m3u8 information\n"
     ]
    },
    {
     "name": "stderr",
     "output_type": "stream",
     "text": [
      "WARNING: ffmpeg not found. The downloaded format may not be the best available. Installing ffmpeg is strongly recommended: https://github.com/yt-dlp/yt-dlp#dependencies\n"
     ]
    },
    {
     "name": "stdout",
     "output_type": "stream",
     "text": [
      "[info] QHn9KyE-zZo: Downloading 1 format(s): 18\n",
      "[download] Destination: downloads\\London Slacklining.mp4\n",
      "[download] 100% of   16.67MiB in 00:00:37 at 455.21KiB/s \n",
      "Downloaded: QHn9KyE-zZo\n",
      "[youtube] Extracting URL: https://www.youtube.com/watch?v=9-yueOtwiL8\n",
      "[youtube] 9-yueOtwiL8: Downloading webpage\n",
      "[youtube] 9-yueOtwiL8: Downloading tv client config\n",
      "[youtube] 9-yueOtwiL8: Downloading player ac290d0b-main\n",
      "[youtube] 9-yueOtwiL8: Downloading tv player API JSON\n",
      "[youtube] 9-yueOtwiL8: Downloading ios player API JSON\n",
      "[youtube] 9-yueOtwiL8: Downloading m3u8 information\n"
     ]
    },
    {
     "name": "stderr",
     "output_type": "stream",
     "text": [
      "WARNING: ffmpeg not found. The downloaded format may not be the best available. Installing ffmpeg is strongly recommended: https://github.com/yt-dlp/yt-dlp#dependencies\n"
     ]
    },
    {
     "name": "stdout",
     "output_type": "stream",
     "text": [
      "[info] 9-yueOtwiL8: Downloading 1 format(s): 18\n",
      "[download] Destination: downloads\\Shot-Put, Discus, Javelin.mp4\n",
      "[download] 100% of   13.35MiB in 00:00:28 at 476.78KiB/s   \n",
      "Downloaded: 9-yueOtwiL8\n",
      "Invalid or unsupported URL for video ID: od9EdcDcByA\n",
      "Invalid or unsupported URL for video ID: U0qUFAPUg_Y\n",
      "Invalid or unsupported URL for video ID: -ap649M020k\n",
      "Invalid or unsupported URL for video ID: lxMSX0Y0b8I\n"
     ]
    }
   ],
   "source": [
    "count = 0\n",
    "for video_id, video_info in top_15_videos:\n",
    "    video_url = video_info.get('url')\n",
    "    if video_url and \"youtube.com\" in video_url and count < 10:\n",
    "        try:\n",
    "            download_video(video_url)\n",
    "            print(f\"Downloaded: {video_id}\")\n",
    "            count += 1\n",
    "        except Exception as e:\n",
    "            print(f\"Failed to download {video_id}: {e}\")\n",
    "    else:\n",
    "        print(f\"Invalid or unsupported URL for video ID or already gor 10 videos: {video_id}\")"
   ]
  },
  {
   "cell_type": "code",
   "execution_count": 54,
   "metadata": {},
   "outputs": [],
   "source": [
    "# content = av.datasets.curated(\"pexels/time-lapse-video-of-night-sky-857195.mp4\")\n",
    "# with av.open(content) as container:\n",
    "#     # Signal that we only want to look at keyframes.\n",
    "#     stream = container.streams.video[0]\n",
    "#     stream.codec_context.skip_frame = \"NONKEY\"\n",
    "\n",
    "#     for i, frame in enumerate(container.decode(stream)):\n",
    "#         print(frame)\n",
    "#         frame.to_image().save(f\"night-sky.{i:04d}.jpg\", quality=80)"
   ]
  },
  {
   "cell_type": "markdown",
   "metadata": {},
   "source": [
    "## Storing video data"
   ]
  },
  {
   "cell_type": "code",
   "execution_count": null,
   "metadata": {},
   "outputs": [],
   "source": []
  }
 ],
 "metadata": {
  "kernelspec": {
   "display_name": "nlp-cv-ir",
   "language": "python",
   "name": "python3"
  },
  "language_info": {
   "codemirror_mode": {
    "name": "ipython",
    "version": 3
   },
   "file_extension": ".py",
   "mimetype": "text/x-python",
   "name": "python",
   "nbconvert_exporter": "python",
   "pygments_lexer": "ipython3",
   "version": "3.9.21"
  }
 },
 "nbformat": 4,
 "nbformat_minor": 2
}
